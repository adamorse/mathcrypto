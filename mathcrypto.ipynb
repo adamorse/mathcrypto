{
  "nbformat": 4,
  "nbformat_minor": 0,
  "metadata": {
    "colab": {
      "name": "mathcrypt_basic.ipynb",
      "provenance": [],
      "authorship_tag": "ABX9TyOnYbmc92PdtsQVmgflIJDt"
    },
    "kernelspec": {
      "name": "python3",
      "display_name": "Python 3"
    },
    "language_info": {
      "name": "python"
    }
  },
  "cells": [
    {
      "cell_type": "code",
      "execution_count": null,
      "metadata": {
        "id": "BApmeGMBd4jy"
      },
      "outputs": [],
      "source": [
        "from string import ascii_lowercase\n",
        "import numpy as np\n",
        "\n",
        "# construct a dictionary with the standard letter->integer map. change start=0 to start=1 if you want a->1, b->2, ...\n",
        "# note that the advantage of this dictionary method compared to slicker/more automatic methods is\n",
        "# we can easily remove punctuation, spaces, special characters without any fancy regex\n",
        "# the disadvantage is it does require looping, but for short ciphertexts this isn't a real problem\n",
        "strconvert = {letter: index for index, letter in enumerate(ascii_lowercase, start=0)} \n",
        "# construct the inverse dictionary\n",
        "numconvert = {index: letter for letter,index in strconvert.items()}\n",
        "\n",
        "def str2num(text):\n",
        "\n",
        "    # input: a string (may contain non-alphabetic characters)\n",
        "    # output: a corresponding array of integers under the a->0, b->1, ... map\n",
        "    #         note that any non-alphabetic characters (e.g. punctuation) will be skipped\n",
        "    # example: str2num('bad') = [1,0,3]\n",
        "\n",
        "    # make sure all text is lowercase to match the strconvert dictionary\n",
        "    text = text.lower()\n",
        "\n",
        "    # perform the conversion. note that any non-alphabetical characters will be skipped\n",
        "    numbers = [strconvert[letter] for letter in text if letter in strconvert]\n",
        "    return numbers\n",
        "  \n",
        "def num2str(numbers):\n",
        "\n",
        "    # input: an array of integers\n",
        "    # output: a corresponding string under the 0->a, 2->b map\n",
        "\n",
        "    # perform the conversion. note that any numbers outside the 0-25 range will be ignored\n",
        "    letters = [numconvert[number] for number in numbers if number in numconvert]\n",
        "\n",
        "    string = ''.join(letters)\n",
        "\n",
        "    return string\n",
        "\n",
        "def affine(text,scale,shift):\n",
        "  \n",
        "    # input: a string and the key for an affine cipher\n",
        "    # output: the encrypted/decrypted string\n",
        "\n",
        "    # convert text to numbers\n",
        "    numbers = np.array(str2num(text))\n",
        "\n",
        "    # perform the modular arithmetic\n",
        "    numbers = np.remainder(scale*numbers + shift,26)\n",
        "\n",
        "    # convert back to text\n",
        "    text = num2str(list(numbers))\n",
        "\n",
        "    return text\n",
        "\n",
        "def shift(text,shift):\n",
        "    # input: a string and the key for a shift cipher\n",
        "    # output: the encrypted/decrypted string\n",
        "\n",
        "    # convert text to numbers\n",
        "    numbers = np.array(str2num(text))\n",
        "\n",
        "    # perform the shift\n",
        "    numbers = np.remainder(numbers+shift,26)\n",
        "\n",
        "    # return the encrypted/decrypted text\n",
        "    text = num2str(list(numbers))\n",
        "    return text"
      ]
    },
    {
      "cell_type": "code",
      "source": [
        ""
      ],
      "metadata": {
        "id": "AH2vWtKkj9aK"
      },
      "execution_count": null,
      "outputs": []
    }
  ]
}