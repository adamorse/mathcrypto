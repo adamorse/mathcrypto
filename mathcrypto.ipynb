{
  "nbformat": 4,
  "nbformat_minor": 0,
  "metadata": {
    "colab": {
      "name": "mathcrypt_basic.ipynb",
      "provenance": [],
      "authorship_tag": "ABX9TyPm7YrtEUhffdJ+VsVEUhsX"
    },
    "kernelspec": {
      "name": "python3",
      "display_name": "Python 3"
    },
    "language_info": {
      "name": "python"
    }
  },
  "cells": [
    {
      "cell_type": "markdown",
      "source": [
        "# Basic Conversion Functions and Frequency Analysis"
      ],
      "metadata": {
        "id": "tDKrtEknNbIU"
      }
    },
    {
      "cell_type": "code",
      "execution_count": 46,
      "metadata": {
        "id": "BApmeGMBd4jy"
      },
      "outputs": [],
      "source": [
        "from string import ascii_lowercase\n",
        "from math import ceil\n",
        "import numpy as np\n",
        "\n",
        "# construct a dictionary with the standard letter->integer map. \n",
        "# change start=0 to start=1 if you want a->1, b->2, ...\n",
        "strconvert = {letter: index for index, letter in enumerate(ascii_lowercase, start=0)}\n",
        "\n",
        "# construct the inverse dictionary\n",
        "numconvert = {index: letter for letter,index in strconvert.items()}\n",
        "\n",
        "def str2num(text):\n",
        "\n",
        "    # input: a string (may contain non-alphabetic characters)\n",
        "    # output: a corresponding array of integers under the a->0, b->1, ... map\n",
        "    #         note that any non-alphabetic characters (e.g. punctuation) will be skipped\n",
        "    # example: str2num('bad') = [1,0,3]\n",
        "\n",
        "    # make sure all text is lowercase to match the strconvert dictionary\n",
        "    text = text.lower()\n",
        "\n",
        "    # perform the conversion. note that any non-alphabetical characters will be skipped\n",
        "    numbers = [strconvert[letter] for letter in text if letter in strconvert]\n",
        "    return numbers\n",
        "  \n",
        "def num2str(numbers):\n",
        "\n",
        "    # input: an array of integers\n",
        "    # output: a corresponding string under the 0->a, 2->b map\n",
        "\n",
        "    # perform the conversion. note that any numbers outside the 0-25 range will be ignored\n",
        "    letters = [numconvert[number] for number in numbers if number in numconvert]\n",
        "\n",
        "    string = ''.join(letters)\n",
        "\n",
        "    return string\n",
        "\n",
        "def frequency(text):\n",
        "      # input: a ciphertext\n",
        "      # output: a dictionary containing every letter in the ciphertext and its frequency in the ciphertext\n",
        "\n",
        "      # convert text to numbers to use numpy functions\n",
        "      numeric_text = np.array(str2num(text))\n",
        "\n",
        "      # get all unique values in the numeric text and the number of times each occurs\n",
        "      unique,counts = np.unique(numeric_text,return_counts=True)\n",
        "      freqs = np.round(counts / numeric_text.size,3)\n",
        "\n",
        "      # get a list of unique characters for ease of reading output\n",
        "      unique_chars = list(num2str(unique))\n",
        "\n",
        "      # construct a dictionary of letters and their frequencies\n",
        "      frequencies = list(zip(unique_chars,freqs))\n",
        "\n",
        "      # sort by highest to lowest\n",
        "      frequencies = sorted(frequencies,key = lambda x: x[1],reverse=True)\n",
        "      return frequencies"
      ]
    },
    {
      "cell_type": "markdown",
      "source": [
        "# Shift and Affine Ciphers"
      ],
      "metadata": {
        "id": "QPIrabG7No7L"
      }
    },
    {
      "cell_type": "code",
      "source": [
        "def affine(text,scale,shift):\n",
        "  \n",
        "    # input: a string and the key for an affine cipher\n",
        "    # output: the encrypted/decrypted string\n",
        "\n",
        "    # convert text to numbers\n",
        "    numbers = np.array(str2num(text))\n",
        "\n",
        "    # perform the modular arithmetic\n",
        "    numbers = np.remainder(scale*numbers + shift,26)\n",
        "\n",
        "    # convert back to text\n",
        "    text = num2str(list(numbers))\n",
        "\n",
        "    return text\n",
        "\n",
        "def shift(text,shift):\n",
        "    # input: a string and the key for a shift cipher\n",
        "    # output: the encrypted/decrypted string\n",
        "\n",
        "    # convert text to numbers\n",
        "    numbers = np.array(str2num(text))\n",
        "\n",
        "    # perform the shift\n",
        "    numbers = np.remainder(numbers+shift,26)\n",
        "\n",
        "    # return the encrypted/decrypted text\n",
        "    text = num2str(list(numbers))\n",
        "    return text"
      ],
      "metadata": {
        "id": "t1Gy0e1zNsit"
      },
      "execution_count": 47,
      "outputs": []
    },
    {
      "cell_type": "markdown",
      "source": [
        "# Vigenere encryption and attacks"
      ],
      "metadata": {
        "id": "K9-6TSCkN8aB"
      }
    },
    {
      "cell_type": "code",
      "source": [
        "def vigenere(text,key,encrypt=True):\n",
        "    # input: text and key for vigenere encryption. to decrypt set encrypt=False\n",
        "    # output: the encrypted or decrypted text\n",
        "\n",
        "    # convert text and key to numbers\n",
        "    numeric_text = np.array(str2num(text))\n",
        "    numeric_key = np.array(str2num(key))\n",
        "\n",
        "    # get text and key length to repeat the key\n",
        "    text_length = numeric_text.size\n",
        "    key_length = numeric_key.size\n",
        "\n",
        "    # extend the key to the length of the text\n",
        "    numeric_key = np.tile(numeric_key,ceil(text_length/key_length))[:text_length]\n",
        "\n",
        "    # perform the encryption or decryption\n",
        "    if encrypt:\n",
        "      numeric_output = np.remainder(numeric_text + numeric_key,26)\n",
        "    else:\n",
        "      numeric_output = np.remainder(numeric_text - numeric_key,26)\n",
        "    \n",
        "    text_output = num2str(numeric_output)\n",
        "\n",
        "    return text_output"
      ],
      "metadata": {
        "id": "DltSJTDbOAwD"
      },
      "execution_count": null,
      "outputs": []
    },
    {
      "cell_type": "code",
      "source": [
        "def coincidence(ciphertext,limit=10):\n",
        "    # note that this is not the \"index of coincidence\"\n",
        "    # this counts coincidences between shifted versions of the ciphertext to help guess key length\n",
        "\n",
        "    # input: a ciphertext believed to be encrypted using Vigenere\n",
        "    # output: coincidence counts for shifts of 1 up to limit\n",
        "\n",
        "    numeric_ciphertext = np.array(str2num(ciphertext))\n",
        "\n",
        "    # initialize a shifted version of the ciphertext\n",
        "    shift = numeric_ciphertext\n",
        "\n",
        "    # initialize an array to story the output\n",
        "    coincidences = np.zeros(limit)\n",
        "\n",
        "    for i in range(limit):\n",
        "      \n",
        "      # generate a \"shifted\" version of the ciphertext by inserting -1 at the beginning, since -1 is never in the ciphertext\n",
        "      # note that we then truncate so it is the same length as the original text\n",
        "      shift = np.insert(shift,0,-1)[:numeric_ciphertext.size]\n",
        "\n",
        "      # count the number of coincidences at this shift\n",
        "      coincidences[i] = np.sum(numeric_ciphertext==shift)\n",
        "    \n",
        "    return coincidences"
      ],
      "metadata": {
        "id": "e7RnQwUqODyu"
      },
      "execution_count": null,
      "outputs": []
    },
    {
      "cell_type": "markdown",
      "source": [
        "# Examples"
      ],
      "metadata": {
        "id": "hW90c3YuO2Jq"
      }
    },
    {
      "cell_type": "markdown",
      "source": [
        "## Shift Cipher\n",
        "First, we receive the following encrypted message"
      ],
      "metadata": {
        "id": "I0TcPlmzO6Cg"
      }
    },
    {
      "cell_type": "code",
      "source": [
        "ciphertext = 'nkdtz ymymw tzlmt zyfqq mnxyt wdmfi mfifh mfrun tsytx yfsiz uktwn yytxm tbfit zgyns lbtwq iymfy fhmnq ihfsy mnspf siutx xngqd itnyu wfhyn hfqqd dtzbt zqisy htsxy fsyqd wzsfh wtxxk tqpxy tifdb mthqf nrymf yfhmn qiits ypstb fsdym nslfh mnqix gwfns xyfwy xkzsh yntsn slfyg nwymf simfx frtsl xynyx rfsdn skfsy htsat qzynt sxymt zxfsi xtkit wrfsy fytrx nsytb mnhml timfx uzyfr dxynh utxxn gnqny dktws tynhn slfsf izqyx fhyfs iknlz wnslt zynyx uzwut wy'"
      ],
      "metadata": {
        "id": "w1R0j8lAO7xN"
      },
      "execution_count": 48,
      "outputs": []
    },
    {
      "cell_type": "markdown",
      "source": [
        "You suspect a shift cipher and perform a frequency analysis"
      ],
      "metadata": {
        "id": "alifoMR2PSyC"
      }
    },
    {
      "cell_type": "code",
      "source": [
        "frequency(ciphertext)"
      ],
      "metadata": {
        "colab": {
          "base_uri": "https://localhost:8080/"
        },
        "id": "YGPi4e64PZef",
        "outputId": "492f488b-998e-417f-f309-9d8c6d605e8f"
      },
      "execution_count": 50,
      "outputs": [
        {
          "output_type": "execute_result",
          "data": {
            "text/plain": [
              "[('y', 0.118),\n",
              " ('f', 0.102),\n",
              " ('t', 0.102),\n",
              " ('s', 0.089),\n",
              " ('n', 0.086),\n",
              " ('x', 0.067),\n",
              " ('m', 0.059),\n",
              " ('i', 0.051),\n",
              " ('h', 0.043),\n",
              " ('q', 0.043),\n",
              " ('z', 0.043),\n",
              " ('w', 0.04),\n",
              " ('d', 0.03),\n",
              " ('l', 0.024),\n",
              " ('k', 0.022),\n",
              " ('u', 0.022),\n",
              " ('r', 0.019),\n",
              " ('b', 0.016),\n",
              " ('g', 0.013),\n",
              " ('p', 0.008),\n",
              " ('a', 0.003)]"
            ]
          },
          "metadata": {},
          "execution_count": 50
        }
      ]
    },
    {
      "cell_type": "markdown",
      "source": [
        "Since \"y\" is the most common character, you guess that plaintext \"e\" corresponds to ciphertext \"y\", and calculate the decryption key"
      ],
      "metadata": {
        "id": "ESD49zSpPhil"
      }
    },
    {
      "cell_type": "code",
      "source": [
        "y = str2num('y')[0]   # get the integer for y\n",
        "e = str2num('e')[0]   # get the integer for e\n",
        "key = y - e           # get the shift amount to turn \"e\" into \"y\""
      ],
      "metadata": {
        "colab": {
          "base_uri": "https://localhost:8080/"
        },
        "id": "PTN6qID1PvsT",
        "outputId": "37fbf28d-5a60-4808-b538-ddef98d821eb"
      },
      "execution_count": 54,
      "outputs": [
        {
          "output_type": "execute_result",
          "data": {
            "text/plain": [
              "20"
            ]
          },
          "metadata": {},
          "execution_count": 54
        }
      ]
    },
    {
      "cell_type": "markdown",
      "source": [
        "Unfortunately, decryption produces nothing intelligible"
      ],
      "metadata": {
        "id": "djNFm3_TQE6H"
      }
    },
    {
      "cell_type": "code",
      "source": [
        "shift(ciphertext,-key)  # decrypt using -key to shift backwards"
      ],
      "metadata": {
        "colab": {
          "base_uri": "https://localhost:8080/",
          "height": 76
        },
        "id": "24Zvzqj7P6ET",
        "outputId": "7de567ee-c365-4025-a4a3-30703c0f6f85"
      },
      "execution_count": 57,
      "outputs": [
        {
          "output_type": "execute_result",
          "data": {
            "application/vnd.google.colaboratory.intrinsic+json": {
              "type": "string"
            },
            "text/plain": [
              "'tqjzfesesczfrszfelwwstdezcjsloslolnslxatzyezdelyofaqzcteezdszhlozfmetyrhzcwoeslelnstwonlyestyvlyoazddtmwjozteaclnetnlwwjjzfhzfwoyenzydelyewjcfylnczddqzwvdezoljhsznwltxeslelnstwoozyevyzhlyjestyrlnstwodmcltydelcedqfynetzytyrlemtceslyosldlxzyrdetedxlyjtyqlyenzygzwfetzydeszfdlyodzqozcxlyelezxdtyezhstnsrzosldafelxjdetnazddtmtwtejqzcyzetntyrlylofwedlnelyoqtrfctyrzfetedafcazce'"
            ]
          },
          "metadata": {},
          "execution_count": 57
        }
      ]
    },
    {
      "cell_type": "markdown",
      "source": [
        "So maybe ciphertext \"y\" corresponds to another frequent letter, say \"t\". Testing that seems to work! At least, it produces what looks like an English paragraph."
      ],
      "metadata": {
        "id": "wsAOFU1AQQvv"
      }
    },
    {
      "cell_type": "code",
      "source": [
        "t = str2num('t')[0]\n",
        "key = y-t\n",
        "shift(ciphertext,-key)"
      ],
      "metadata": {
        "colab": {
          "base_uri": "https://localhost:8080/",
          "height": 76
        },
        "id": "N65RHvyxQMWl",
        "outputId": "2604afae-9e4c-4fa9-f4a0-68cab67a6e45"
      },
      "execution_count": 58,
      "outputs": [
        {
          "output_type": "execute_result",
          "data": {
            "application/vnd.google.colaboratory.intrinsic+json": {
              "type": "string"
            },
            "text/plain": [
              "'ifyouththroughoutallhistoryhadhadachampiontostandupforittoshowadoubtingworldthatachildcanthinkandpossiblydoitpracticallyyouwouldntconstantlyrunacrossfolkstodaywhoclaimthatachilddontknowanythingachildsbrainstartsfunctioningatbirthandhasamongstitsmanyinfantconvolutionsthousandsofdormantatomsintowhichgodhasputamysticpossibilityfornoticinganadultsactandfiguringoutitspurport'"
            ]
          },
          "metadata": {},
          "execution_count": 58
        }
      ]
    },
    {
      "cell_type": "markdown",
      "source": [
        "Googling this phrase (\"if youth throughout all history had had a champion...\") leads you to believe this is an excerpt from the book Gadsby -- a book containing no letter \"e\", specifically to annoy cryptography students!"
      ],
      "metadata": {
        "id": "MHrn7ruyQild"
      }
    }
  ]
}